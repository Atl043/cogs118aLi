{
 "cells": [
  {
   "cell_type": "markdown",
   "metadata": {},
   "source": [
    "## Q2 LDA"
   ]
  },
  {
   "cell_type": "code",
   "execution_count": 1,
   "metadata": {
    "ExecuteTime": {
     "end_time": "2018-02-05T23:19:55.743563Z",
     "start_time": "2018-02-05T23:19:55.289600Z"
    },
    "collapsed": true
   },
   "outputs": [],
   "source": [
    "import numpy as np\n",
    "import matplotlib.pyplot as plt\n",
    "%config InlineBackend.figure_format = 'retina'"
   ]
  },
  {
   "cell_type": "code",
   "execution_count": 2,
   "metadata": {
    "collapsed": true
   },
   "outputs": [],
   "source": [
    "def print_latex(mat):\n",
    "    s = r'\\begin{bmatrix}' + '\\n'\n",
    "    for i in range(mat.shape[0]):\n",
    "        for j in range(mat.shape[1]):\n",
    "            if j != mat.shape[1] - 1:\n",
    "                s += '{: .4f} & '.format(mat[i,j])\n",
    "            else:\n",
    "                s += '{: .4f} \\\\\\\\\\n'.format(mat[i,j])\n",
    "    s += r'\\end{bmatrix}'\n",
    "    print(s)"
   ]
  },
  {
   "cell_type": "code",
   "execution_count": 3,
   "metadata": {
    "ExecuteTime": {
     "end_time": "2018-02-06T01:33:07.526126Z",
     "start_time": "2018-02-06T01:33:07.352987Z"
    }
   },
   "outputs": [
    {
     "name": "stdout",
     "output_type": "stream",
     "text": [
      "(2, 100) (2, 100)\n"
     ]
    },
    {
     "data": {
      "image/png": "[encoded data removed]",
      "text/plain": [
       "<matplotlib.figure.Figure at 0x10291ee48>"
      ]
     },
     "metadata": {
      "image/png": {
       "height": 263,
       "width": 173
      }
     },
     "output_type": "display_data"
    }
   ],
   "source": [
    "# Load the data and visualize.\n",
    "Xs = np.load('lda.npy')\n",
    "\n",
    "X_0 = np.matrix(Xs[:, 0:2]).T  # Shape: (2, 100).\n",
    "X_1 = np.matrix(Xs[:, 2:4]).T  # Shape: (2, 100).\n",
    "\n",
    "print(X_0.shape, X_1.shape)\n",
    "plt.scatter(X_0[0].tolist(), X_0[1].tolist(), color='orange')\n",
    "plt.scatter(X_1[0].tolist(), X_1[1].tolist(), color='blue')\n",
    "plt.axis('scaled')\n",
    "plt.xlabel('$x_1$')\n",
    "plt.ylabel('$x_2$')\n",
    "plt.show()"
   ]
  },
  {
   "cell_type": "code",
   "execution_count": 4,
   "metadata": {
    "ExecuteTime": {
     "end_time": "2018-02-06T01:33:35.616671Z",
     "start_time": "2018-02-06T01:33:35.607696Z"
    }
   },
   "outputs": [
    {
     "name": "stdout",
     "output_type": "stream",
     "text": [
      "(2, 1) (2, 1)\n",
      "mu_0=\n",
      "[[ 2.98351552]\n",
      " [ 1.06453902]],\n",
      "mu_1=\n",
      "[[ 4.46952033]\n",
      " [ 3.52885988]]\n"
     ]
    }
   ],
   "source": [
    "# (a) Compute mean of each class.\n",
    "import numpy as np\n",
    "mu_0 = []\n",
    "mu_0.append([np.mean(X_0[0].tolist())])\n",
    "mu_0.append([np.mean(X_0[1].tolist())])\n",
    "mu_0 = np.matrix(mu_0)\n",
    "mu_1 = []\n",
    "mu_1.append([np.mean(X_1[0].tolist())])\n",
    "mu_1.append([np.mean(X_1[1].tolist())])\n",
    "mu_1 = np.matrix(mu_1)\n",
    "print(mu_0.shape, mu_1.shape)\n",
    "print('mu_0=\\n{},\\nmu_1=\\n{}'.format(mu_0, mu_1))"
   ]
  },
  {
   "cell_type": "code",
   "execution_count": 5,
   "metadata": {},
   "outputs": [
    {
     "data": {
      "text/plain": [
       "matrix([[ 0.38507891, -0.84573494,  1.19875092,  0.64406014,  2.12038746,\n",
       "          1.18471009,  0.01967204,  2.37606288, -0.69699842, -0.910081  ,\n",
       "          1.1618925 ,  1.26354341,  0.82331055,  2.20356411, -1.54304042,\n",
       "          0.19524756, -1.04017726,  1.61348847, -0.83414558,  1.25187084,\n",
       "         -0.18957861,  0.24187518,  1.92143942,  2.07863428, -0.09993144,\n",
       "          0.10794002, -0.63425032, -0.27178387, -0.27109372,  0.63414954,\n",
       "          0.01625095,  0.52527373,  0.09369634, -0.05350456,  1.62187185,\n",
       "          0.49250499,  1.44861432,  0.60702016,  3.00725033, -0.06425938,\n",
       "          0.13947225,  0.45390188,  0.95005478,  0.31472264,  0.25051241,\n",
       "          1.70423942,  0.22541269,  1.61025004, -0.44513094,  0.83398507,\n",
       "         -0.2864186 , -2.06766738, -1.62784837, -1.91865412, -1.40886278,\n",
       "          2.90608316,  1.76865974,  1.92144226, -0.71511725, -2.47391796,\n",
       "         -0.93736276,  0.57311989, -0.41807625,  0.14745105, -0.85237672,\n",
       "         -2.00330051, -0.03769642, -0.44013935, -1.59531884, -0.83160022,\n",
       "          1.08507072, -2.48923092,  0.52175748, -0.34043652, -1.13796777,\n",
       "          1.49597405, -1.1388775 ,  0.54878927,  1.4712109 , -0.35372482,\n",
       "         -0.65217403,  0.03203284,  0.48612453,  0.04419087, -0.46499468,\n",
       "         -1.99565292, -1.89187509, -1.38942214, -0.16183655, -1.8622101 ,\n",
       "         -2.18330652, -1.2206601 , -0.08092784,  1.09835103, -2.77175188,\n",
       "          0.62690396, -1.80558408, -0.20336361, -1.3060815 , -1.48372732]])"
      ]
     },
     "execution_count": 5,
     "metadata": {},
     "output_type": "execute_result"
    }
   ],
   "source": [
    "# calculate the between class covariance:\n",
    "N = X_0.shape[1]\n",
    "Z = []\n",
    "mean0 = np.matrix.item(mu_0[1])\n",
    "x0 = Xs[:, 0:2]\n",
    "for c in range(N):\n",
    "    Z.append(x0[c][1] - mean0)\n",
    "Z = np.matrix(Z)\n",
    "Z"
   ]
  },
  {
   "cell_type": "code",
   "execution_count": 6,
   "metadata": {},
   "outputs": [
    {
     "name": "stdout",
     "output_type": "stream",
     "text": [
      "(1, 100)\n",
      "(100, 100)\n"
     ]
    }
   ],
   "source": [
    "N =  X_0.shape[1]\n",
    "#Z = X-repmat(mean(X,2), [1,N])\n",
    "Z = []\n",
    "mean0 = np.matrix.item(mu_0[1])\n",
    "x0 = Xs[:, 0:2]\n",
    "for c in range(N):\n",
    "    Z.append(x0[c][1] - mean0)\n",
    "Z = np.matrix(Z)\n",
    "print(Z.shape)\n",
    "# CV = 1/N *Z *Z\n",
    "Sigma_0 = 1/N * Z.T * Z\n",
    "\n",
    "print(Sigma_0.shape)"
   ]
  },
  {
   "cell_type": "code",
   "execution_count": 7,
   "metadata": {
    "ExecuteTime": {
     "end_time": "2018-02-06T01:35:23.769261Z",
     "start_time": "2018-02-06T01:35:23.758510Z"
    }
   },
   "outputs": [
    {
     "name": "stdout",
     "output_type": "stream",
     "text": [
      "(1, 100)\n",
      "[[ 0.00148286 -0.00325675  0.00461614 ..., -0.00078311 -0.00502944\n",
      "  -0.00571352]\n",
      " [-0.00325675  0.00715268 -0.01013826 ...,  0.00171992  0.01104599\n",
      "   0.0125484 ]\n",
      " [ 0.00461614 -0.01013826  0.01437004 ..., -0.00243782 -0.01565666\n",
      "  -0.01778619]\n",
      " ..., \n",
      " [-0.00078311  0.00171992 -0.00243782 ...,  0.00041357  0.00265609\n",
      "   0.00301736]\n",
      " [-0.00502944  0.01104599 -0.01565666 ...,  0.00265609  0.01705849\n",
      "   0.01937869]\n",
      " [-0.00571352  0.0125484  -0.01778619 ...,  0.00301736  0.01937869\n",
      "   0.02201447]]\n",
      "(1, 100)\n",
      "[[ 0.02790802  0.01739309  0.00219051 ..., -0.03731426 -0.00379736\n",
      "  -0.04564131]\n",
      " [ 0.01739309  0.01083988  0.00136519 ..., -0.02325533 -0.00236663\n",
      "  -0.02844499]\n",
      " [ 0.00219051  0.00136519  0.00017193 ..., -0.00292881 -0.00029806\n",
      "  -0.0035824 ]\n",
      " ..., \n",
      " [-0.03731426 -0.02325533 -0.00292881 ...,  0.04989083  0.00507724\n",
      "   0.06102446]\n",
      " [-0.00379736 -0.00236663 -0.00029806 ...,  0.00507724  0.0005167\n",
      "   0.00621028]\n",
      " [-0.04564131 -0.02844499 -0.0035824  ...,  0.06102446  0.00621028\n",
      "   0.07464268]]\n"
     ]
    }
   ],
   "source": [
    "# (b) Compute the covariance matrix for each class, Sigma_0 and Sigma_1.\n",
    "Sigma_0 = 0\n",
    "Sigma_1 = 0\n",
    "\n",
    "# using slide 15 in lecture 10 as reference \n",
    "#N = size(X,2) --> second dimension in the array ie 100\n",
    "N =  X_0.shape[1]\n",
    "#Z = X-repmat(mean(X,2), [1,N])\n",
    "Z = []\n",
    "mean0 = np.matrix.item(mu_0[1])\n",
    "x0 = Xs[:, 0:2]\n",
    "for c in range(N):\n",
    "    Z.append(x0[c][1] - mean0)\n",
    "Z = np.matrix(Z)\n",
    "print(Z.shape)\n",
    "# CV = 1/N *Z *Z\n",
    "Sigma_0 = 1/N * Z.T * Z \n",
    "print(Sigma_0)\n",
    "\n",
    "# using slide 15 in lecture 10 as reference \n",
    "#N = size(X,2) --> second dimension in the array ie 100\n",
    "N =  X_1.shape[1]\n",
    "#Z = X-repmat(mean(X,2), [1,N])\n",
    "Z2 = []\n",
    "mean1 = np.matrix.item(mu_1[1])\n",
    "x1 = Xs[:, 2:4]\n",
    "for c in range(N):\n",
    "    Z2.append(x1[c][1] - mean1)\n",
    "Z2 = np.matrix(Z2)\n",
    "print(Z2.shape)\n",
    "# CV = 1/N *Z *Z.T\n",
    "Sigma_1 = 1/N * Z2.T * Z2 \n",
    "print(Sigma_1)"
   ]
  },
  {
   "cell_type": "code",
   "execution_count": 8,
   "metadata": {},
   "outputs": [
    {
     "data": {
      "text/plain": [
       "matrix([[  5.96374404e+16,   2.35899679e+17,   3.04159027e+17, ...,\n",
       "           9.02709882e+16,  -8.96454080e+17,   2.73970903e+17],\n",
       "        [ -1.03335040e+17,  -6.81471252e+16,  -8.75962489e+16, ...,\n",
       "           1.80560323e+16,   1.39541510e+16,  -4.49571050e+16],\n",
       "        [  1.71437474e+17,   8.42130187e+17,   3.11211604e+17, ...,\n",
       "          -4.63832300e+16,  -1.12952435e+18,   6.92715021e+17],\n",
       "        ..., \n",
       "        [ -8.29884951e+16,  -1.46936198e+17,   1.76291814e+17, ...,\n",
       "           5.70473399e+16,  -2.85113745e+17,  -1.08448771e+17],\n",
       "        [ -2.82902592e+17,  -4.43938572e+17,   1.53194720e+17, ...,\n",
       "           7.41727516e+16,  -4.55531594e+17,  -1.99602372e+17],\n",
       "        [  8.27625250e+16,   1.96246020e+17,  -3.97526643e+16, ...,\n",
       "          -4.89920562e+16,  -1.00039937e+16,   1.43563708e+17]])"
      ]
     },
     "execution_count": 8,
     "metadata": {},
     "output_type": "execute_result"
    }
   ],
   "source": [
    "# w* = (Sigma_0 + Sigma_1)^-1 (mu_0[1] mu_1[1])\n",
    "SigmaD =Sigma_0 + Sigma_1\n",
    "meanD = (np.matrix.item(mu_0[1]) - np.matrix.item(mu_1[1]))\n",
    "w_star = SigmaD**-1 * meanD\n",
    "w_star"
   ]
  },
  {
   "cell_type": "code",
   "execution_count": 9,
   "metadata": {},
   "outputs": [
    {
     "data": {
      "text/plain": [
       "matrix([[  3.76679412e-04,   1.48997932e-03,   1.92111604e-03, ...,\n",
       "           5.70165697e-04,  -5.66214434e-03,   1.73044313e-03],\n",
       "        [ -6.52680291e-04,  -4.30427914e-04,  -5.53271625e-04, ...,\n",
       "           1.14044727e-04,   8.81366029e-05,  -2.83956115e-04],\n",
       "        [  1.08282593e-03,   5.31902613e-03,   1.96566122e-03, ...,\n",
       "          -2.92963744e-04,  -7.13425264e-03,   4.37529654e-03],\n",
       "        ..., \n",
       "        [ -5.24168330e-04,  -9.28072035e-04,   1.11348670e-03, ...,\n",
       "           3.60319932e-04,  -1.80082306e-03,  -6.84979423e-04],\n",
       "        [ -1.78685707e-03,  -2.80398553e-03,   9.67601842e-04, ...,\n",
       "           4.68486714e-04,  -2.87720888e-03,  -1.26071984e-03],\n",
       "        [  5.22741068e-04,   1.23952059e-03,  -2.51084052e-04, ...,\n",
       "          -3.09441499e-04,  -6.31867905e-05,   9.06770861e-04]])"
      ]
     },
     "execution_count": 9,
     "metadata": {},
     "output_type": "execute_result"
    }
   ],
   "source": [
    "w_tilde_star = w_star / np.linalg.norm(w_star,2)\n",
    "w_tilde_star"
   ]
  },
  {
   "cell_type": "code",
   "execution_count": 10,
   "metadata": {
    "ExecuteTime": {
     "end_time": "2018-02-06T01:35:33.286898Z",
     "start_time": "2018-02-06T01:35:33.277333Z"
    }
   },
   "outputs": [
    {
     "name": "stdout",
     "output_type": "stream",
     "text": [
      "(100, 100) (100, 100)\n",
      "w_star=\n",
      "[[  5.96374404e+16   2.35899679e+17   3.04159027e+17 ...,   9.02709882e+16\n",
      "   -8.96454080e+17   2.73970903e+17]\n",
      " [ -1.03335040e+17  -6.81471252e+16  -8.75962489e+16 ...,   1.80560323e+16\n",
      "    1.39541510e+16  -4.49571050e+16]\n",
      " [  1.71437474e+17   8.42130187e+17   3.11211604e+17 ...,  -4.63832300e+16\n",
      "   -1.12952435e+18   6.92715021e+17]\n",
      " ..., \n",
      " [ -8.29884951e+16  -1.46936198e+17   1.76291814e+17 ...,   5.70473399e+16\n",
      "   -2.85113745e+17  -1.08448771e+17]\n",
      " [ -2.82902592e+17  -4.43938572e+17   1.53194720e+17 ...,   7.41727516e+16\n",
      "   -4.55531594e+17  -1.99602372e+17]\n",
      " [  8.27625250e+16   1.96246020e+17  -3.97526643e+16 ...,  -4.89920562e+16\n",
      "   -1.00039937e+16   1.43563708e+17]],\n",
      "w_tilde_star=\n",
      "[[  3.76679412e-04   1.48997932e-03   1.92111604e-03 ...,   5.70165697e-04\n",
      "   -5.66214434e-03   1.73044313e-03]\n",
      " [ -6.52680291e-04  -4.30427914e-04  -5.53271625e-04 ...,   1.14044727e-04\n",
      "    8.81366029e-05  -2.83956115e-04]\n",
      " [  1.08282593e-03   5.31902613e-03   1.96566122e-03 ...,  -2.92963744e-04\n",
      "   -7.13425264e-03   4.37529654e-03]\n",
      " ..., \n",
      " [ -5.24168330e-04  -9.28072035e-04   1.11348670e-03 ...,   3.60319932e-04\n",
      "   -1.80082306e-03  -6.84979423e-04]\n",
      " [ -1.78685707e-03  -2.80398553e-03   9.67601842e-04 ...,   4.68486714e-04\n",
      "   -2.87720888e-03  -1.26071984e-03]\n",
      " [  5.22741068e-04   1.23952059e-03  -2.51084052e-04 ...,  -3.09441499e-04\n",
      "   -6.31867905e-05   9.06770861e-04]]\n"
     ]
    }
   ],
   "source": [
    "# (c) Find the optimal w_star and w_tilde_star with unit length.\n",
    "print(w_star.shape, w_tilde_star.shape)\n",
    "print('w_star=\\n{},\\nw_tilde_star=\\n{}'.format(w_star, w_tilde_star))"
   ]
  },
  {
   "cell_type": "markdown",
   "metadata": {},
   "source": [
    "The given formula only tells you conceptually how to compute the projection of x, you need to figure out how to arrange the matrix to output the correct shape.\n",
    "One hint though, try to put w_tilde_star at the beginning of the formula."
   ]
  },
  {
   "cell_type": "code",
   "execution_count": 11,
   "metadata": {},
   "outputs": [
    {
     "data": {
      "text/plain": [
       "(100, 2)"
      ]
     },
     "execution_count": 11,
     "metadata": {},
     "output_type": "execute_result"
    }
   ],
   "source": [
    "#Get the data point x (x1, x2)^T\n",
    "x0 = Xs[:, 0:2]\n",
    "l = []\n",
    "for i in range(100):\n",
    "    first = (x0[i][0],x0[i][1])\n",
    "    l.append(first)\n",
    "\n",
    "\n",
    "firstM = np.matrix(l)\n",
    "firstM.shape\n",
    "#w_tilde_star.T.dot(x).dot(w_tilde_star)"
   ]
  },
  {
   "cell_type": "code",
   "execution_count": 12,
   "metadata": {},
   "outputs": [
    {
     "data": {
      "text/plain": [
       "(2, 100)"
      ]
     },
     "execution_count": 12,
     "metadata": {},
     "output_type": "execute_result"
    }
   ],
   "source": [
    "Xproj_0 = w_tilde_star.dot(firstM)\n",
    "Xproj_0 = Xproj_0.T.dot(w_tilde_star)\n",
    "Xproj_0.shape"
   ]
  },
  {
   "cell_type": "code",
   "execution_count": 13,
   "metadata": {},
   "outputs": [
    {
     "data": {
      "text/plain": [
       "(100, 2)"
      ]
     },
     "execution_count": 13,
     "metadata": {},
     "output_type": "execute_result"
    }
   ],
   "source": [
    "#Get the data point x (x1, x2)^T\n",
    "x1 = Xs[:, 2:4]\n",
    "l1 = []\n",
    "for i in range(100):\n",
    "    first = (x1[i][0],x1[i][1])\n",
    "    l1.append(first)\n",
    "\n",
    "\n",
    "firstM1 = np.matrix(l1)\n",
    "firstM1.shape\n",
    "#w_tilde_star.T.dot(x).dot(w_tilde_star)"
   ]
  },
  {
   "cell_type": "code",
   "execution_count": 14,
   "metadata": {},
   "outputs": [
    {
     "data": {
      "text/plain": [
       "(2, 100)"
      ]
     },
     "execution_count": 14,
     "metadata": {},
     "output_type": "execute_result"
    }
   ],
   "source": [
    "Xproj_1 = w_tilde_star.dot(firstM1)\n",
    "Xproj_1 = Xproj_1.T.dot(w_tilde_star)\n",
    "Xproj_1.shape"
   ]
  },
  {
   "cell_type": "code",
   "execution_count": 15,
   "metadata": {
    "ExecuteTime": {
     "end_time": "2018-02-06T01:39:28.300289Z",
     "start_time": "2018-02-06T01:39:28.107361Z"
    }
   },
   "outputs": [
    {
     "name": "stdout",
     "output_type": "stream",
     "text": [
      "(2, 100) (2, 100)\n"
     ]
    },
    {
     "data": {
      "image/png": "[encoded data removed]",
      "text/plain": [
       "<matplotlib.figure.Figure at 0x10c5d4940>"
      ]
     },
     "metadata": {
      "image/png": {
       "height": 263,
       "width": 227
      }
     },
     "output_type": "display_data"
    }
   ],
   "source": [
    "# (d) Compute the projection and plot the figure.\n",
    "\n",
    "print(Xproj_0.shape, Xproj_1.shape)\n",
    "plt.scatter(X_0[0].tolist(), X_0[1].tolist(), color='orange')\n",
    "plt.scatter(X_1[0].tolist(), X_1[1].tolist(), color='blue')\n",
    "plt.scatter(Xproj_0[0].tolist(), Xproj_0[1].tolist(), color='yellow')\n",
    "plt.scatter(Xproj_1[0].tolist(), Xproj_1[1].tolist(), color='green')\n",
    "plt.axis('scaled')\n",
    "plt.xlabel('$x_1$')\n",
    "plt.ylabel('$x_2$')\n",
    "plt.show()"
   ]
  },
  {
   "cell_type": "code",
   "execution_count": 16,
   "metadata": {
    "ExecuteTime": {
     "end_time": "2018-02-15T19:35:24.108889Z",
     "start_time": "2018-02-15T19:35:22.435547Z"
    },
    "collapsed": true
   },
   "outputs": [],
   "source": [
    "import scipy.io as sio\n",
    "import matplotlib.pyplot as plt\n",
    "import numpy as np\n",
    "import seaborn as sns\n",
    "from sklearn import svm\n",
    "from sklearn.model_selection import GridSearchCV\n",
    "%config InlineBackend.figure_format = 'retina'"
   ]
  },
  {
   "cell_type": "markdown",
   "metadata": {},
   "source": [
    "## Q5 Linear SVM"
   ]
  },
  {
   "cell_type": "code",
   "execution_count": 17,
   "metadata": {
    "ExecuteTime": {
     "end_time": "2018-02-15T19:35:24.130289Z",
     "start_time": "2018-02-15T19:35:24.119855Z"
    },
    "scrolled": true
   },
   "outputs": [
    {
     "name": "stdout",
     "output_type": "stream",
     "text": [
      "(452, 279) (452, 1)\n"
     ]
    }
   ],
   "source": [
    "# 1) Load data.\n",
    "from sklearn.utils import shuffle\n",
    "X_and_Y = np.load('arrhythmia.npy')   # Load data from file.\n",
    "X_and_Y = shuffle(X_and_Y)   # Shuffle the data.\n",
    "X = np.matrix(X_and_Y[:,0:X_and_Y.shape[1] -1])    # First column to second last column: Features (numerical values) \n",
    "Y = np.matrix(X_and_Y[:,X_and_Y.shape[1] -1:])    # Last column: Labels (0 or 1)\n",
    "print(X.shape, Y.shape)       # Check the shapes."
   ]
  },
  {
   "cell_type": "code",
   "execution_count": 31,
   "metadata": {
    "ExecuteTime": {
     "end_time": "2018-02-15T19:47:52.406844Z",
     "start_time": "2018-02-15T19:47:52.397048Z"
    }
   },
   "outputs": [
    {
     "name": "stdout",
     "output_type": "stream",
     "text": [
      "(361, 279) (91, 279) (361, 1) (91, 1)\n"
     ]
    },
    {
     "name": "stderr",
     "output_type": "stream",
     "text": [
      "/anaconda/lib/python3.6/site-packages/numpy/matrixlib/defmatrix.py:318: VisibleDeprecationWarning: using a non-integer number instead of an integer will result in an error in the future\n",
      "  out = N.ndarray.__getitem__(self, index)\n"
     ]
    }
   ],
   "source": [
    "# 2) Split the dataset into 2 parts: \n",
    "#    (a) Training set + Validation set  (80% of all data points)\n",
    "#    (b) Test set                       (20% of all data points)\n",
    "\n",
    "\n",
    "\n",
    "X_train_val = np.matrix(X[0:X.shape[0]*0.8 , :]) # Get features from train + val set.\n",
    "X_test      = np.matrix(X[X.shape[0]*0.8: , :])# Get features from test set.     \n",
    "Y_train_val = np.matrix(Y[0:Y.shape[0]*0.8 , :]) # Get labels from train + val set.\n",
    "Y_test      = np.matrix(Y[Y.shape[0]*0.8: , :]) # Get labels from test set.  \n",
    "print(X_train_val.shape, X_test.shape, Y_train_val.shape, Y_test.shape)"
   ]
  },
  {
   "cell_type": "code",
   "execution_count": 32,
   "metadata": {},
   "outputs": [
    {
     "ename": "IndexError",
     "evalue": "too many indices for array",
     "output_type": "error",
     "traceback": [
      "\u001b[0;31m---------------------------------------------------------------------------\u001b[0m",
      "\u001b[0;31mIndexError\u001b[0m                                Traceback (most recent call last)",
      "\u001b[0;32m<ipython-input-32-ad9ca12b293d>\u001b[0m in \u001b[0;36m<module>\u001b[0;34m()\u001b[0m\n\u001b[1;32m     10\u001b[0m \u001b[0mparameters\u001b[0m \u001b[0;34m=\u001b[0m \u001b[0;34m{\u001b[0m\u001b[0;34m'kernel'\u001b[0m\u001b[0;34m:\u001b[0m\u001b[0;34m(\u001b[0m\u001b[0;34m'linear'\u001b[0m\u001b[0;34m,\u001b[0m \u001b[0;34m'rbf'\u001b[0m\u001b[0;34m)\u001b[0m\u001b[0;34m,\u001b[0m \u001b[0;34m'C'\u001b[0m\u001b[0;34m:\u001b[0m\u001b[0mC_list\u001b[0m\u001b[0;34m}\u001b[0m\u001b[0;34m\u001b[0m\u001b[0m\n\u001b[1;32m     11\u001b[0m \u001b[0mclf\u001b[0m \u001b[0;34m=\u001b[0m \u001b[0mGridSearchCV\u001b[0m\u001b[0;34m(\u001b[0m\u001b[0mclassifier\u001b[0m\u001b[0;34m,\u001b[0m \u001b[0mparameters\u001b[0m\u001b[0;34m,\u001b[0m \u001b[0mcv\u001b[0m\u001b[0;34m=\u001b[0m\u001b[0;36m3\u001b[0m\u001b[0;34m)\u001b[0m\u001b[0;34m\u001b[0m\u001b[0m\n\u001b[0;32m---> 12\u001b[0;31m \u001b[0mclf\u001b[0m\u001b[0;34m.\u001b[0m\u001b[0mfit\u001b[0m\u001b[0;34m(\u001b[0m\u001b[0mX_train\u001b[0m\u001b[0;34m,\u001b[0m \u001b[0my_train\u001b[0m\u001b[0;34m)\u001b[0m\u001b[0;34m\u001b[0m\u001b[0m\n\u001b[0m\u001b[1;32m     13\u001b[0m \u001b[0;31m#__________________\u001b[0m\u001b[0;34m\u001b[0m\u001b[0;34m\u001b[0m\u001b[0m\n\u001b[1;32m     14\u001b[0m \u001b[0;31m#__________________\u001b[0m\u001b[0;34m\u001b[0m\u001b[0;34m\u001b[0m\u001b[0m\n",
      "\u001b[0;32m/anaconda/lib/python3.6/site-packages/sklearn/model_selection/_search.py\u001b[0m in \u001b[0;36mfit\u001b[0;34m(self, X, y, groups)\u001b[0m\n\u001b[1;32m    943\u001b[0m             \u001b[0mtrain\u001b[0m\u001b[0;34m/\u001b[0m\u001b[0mtest\u001b[0m \u001b[0mset\u001b[0m\u001b[0;34m.\u001b[0m\u001b[0;34m\u001b[0m\u001b[0m\n\u001b[1;32m    944\u001b[0m         \"\"\"\n\u001b[0;32m--> 945\u001b[0;31m         \u001b[0;32mreturn\u001b[0m \u001b[0mself\u001b[0m\u001b[0;34m.\u001b[0m\u001b[0m_fit\u001b[0m\u001b[0;34m(\u001b[0m\u001b[0mX\u001b[0m\u001b[0;34m,\u001b[0m \u001b[0my\u001b[0m\u001b[0;34m,\u001b[0m \u001b[0mgroups\u001b[0m\u001b[0;34m,\u001b[0m \u001b[0mParameterGrid\u001b[0m\u001b[0;34m(\u001b[0m\u001b[0mself\u001b[0m\u001b[0;34m.\u001b[0m\u001b[0mparam_grid\u001b[0m\u001b[0;34m)\u001b[0m\u001b[0;34m)\u001b[0m\u001b[0;34m\u001b[0m\u001b[0m\n\u001b[0m\u001b[1;32m    946\u001b[0m \u001b[0;34m\u001b[0m\u001b[0m\n\u001b[1;32m    947\u001b[0m \u001b[0;34m\u001b[0m\u001b[0m\n",
      "\u001b[0;32m/anaconda/lib/python3.6/site-packages/sklearn/model_selection/_search.py\u001b[0m in \u001b[0;36m_fit\u001b[0;34m(self, X, y, groups, parameter_iterable)\u001b[0m\n\u001b[1;32m    551\u001b[0m         \u001b[0mpre_dispatch\u001b[0m \u001b[0;34m=\u001b[0m \u001b[0mself\u001b[0m\u001b[0;34m.\u001b[0m\u001b[0mpre_dispatch\u001b[0m\u001b[0;34m\u001b[0m\u001b[0m\n\u001b[1;32m    552\u001b[0m \u001b[0;34m\u001b[0m\u001b[0m\n\u001b[0;32m--> 553\u001b[0;31m         \u001b[0mcv_iter\u001b[0m \u001b[0;34m=\u001b[0m \u001b[0mlist\u001b[0m\u001b[0;34m(\u001b[0m\u001b[0mcv\u001b[0m\u001b[0;34m.\u001b[0m\u001b[0msplit\u001b[0m\u001b[0;34m(\u001b[0m\u001b[0mX\u001b[0m\u001b[0;34m,\u001b[0m \u001b[0my\u001b[0m\u001b[0;34m,\u001b[0m \u001b[0mgroups\u001b[0m\u001b[0;34m)\u001b[0m\u001b[0;34m)\u001b[0m\u001b[0;34m\u001b[0m\u001b[0m\n\u001b[0m\u001b[1;32m    554\u001b[0m         out = Parallel(\n\u001b[1;32m    555\u001b[0m             \u001b[0mn_jobs\u001b[0m\u001b[0;34m=\u001b[0m\u001b[0mself\u001b[0m\u001b[0;34m.\u001b[0m\u001b[0mn_jobs\u001b[0m\u001b[0;34m,\u001b[0m \u001b[0mverbose\u001b[0m\u001b[0;34m=\u001b[0m\u001b[0mself\u001b[0m\u001b[0;34m.\u001b[0m\u001b[0mverbose\u001b[0m\u001b[0;34m,\u001b[0m\u001b[0;34m\u001b[0m\u001b[0m\n",
      "\u001b[0;32m/anaconda/lib/python3.6/site-packages/sklearn/model_selection/_split.py\u001b[0m in \u001b[0;36msplit\u001b[0;34m(self, X, y, groups)\u001b[0m\n\u001b[1;32m    320\u001b[0m                                                              n_samples))\n\u001b[1;32m    321\u001b[0m \u001b[0;34m\u001b[0m\u001b[0m\n\u001b[0;32m--> 322\u001b[0;31m         \u001b[0;32mfor\u001b[0m \u001b[0mtrain\u001b[0m\u001b[0;34m,\u001b[0m \u001b[0mtest\u001b[0m \u001b[0;32min\u001b[0m \u001b[0msuper\u001b[0m\u001b[0;34m(\u001b[0m\u001b[0m_BaseKFold\u001b[0m\u001b[0;34m,\u001b[0m \u001b[0mself\u001b[0m\u001b[0;34m)\u001b[0m\u001b[0;34m.\u001b[0m\u001b[0msplit\u001b[0m\u001b[0;34m(\u001b[0m\u001b[0mX\u001b[0m\u001b[0;34m,\u001b[0m \u001b[0my\u001b[0m\u001b[0;34m,\u001b[0m \u001b[0mgroups\u001b[0m\u001b[0;34m)\u001b[0m\u001b[0;34m:\u001b[0m\u001b[0;34m\u001b[0m\u001b[0m\n\u001b[0m\u001b[1;32m    323\u001b[0m             \u001b[0;32myield\u001b[0m \u001b[0mtrain\u001b[0m\u001b[0;34m,\u001b[0m \u001b[0mtest\u001b[0m\u001b[0;34m\u001b[0m\u001b[0m\n\u001b[1;32m    324\u001b[0m \u001b[0;34m\u001b[0m\u001b[0m\n",
      "\u001b[0;32m/anaconda/lib/python3.6/site-packages/sklearn/model_selection/_split.py\u001b[0m in \u001b[0;36msplit\u001b[0;34m(self, X, y, groups)\u001b[0m\n\u001b[1;32m     89\u001b[0m         \u001b[0mX\u001b[0m\u001b[0;34m,\u001b[0m \u001b[0my\u001b[0m\u001b[0;34m,\u001b[0m \u001b[0mgroups\u001b[0m \u001b[0;34m=\u001b[0m \u001b[0mindexable\u001b[0m\u001b[0;34m(\u001b[0m\u001b[0mX\u001b[0m\u001b[0;34m,\u001b[0m \u001b[0my\u001b[0m\u001b[0;34m,\u001b[0m \u001b[0mgroups\u001b[0m\u001b[0;34m)\u001b[0m\u001b[0;34m\u001b[0m\u001b[0m\n\u001b[1;32m     90\u001b[0m         \u001b[0mindices\u001b[0m \u001b[0;34m=\u001b[0m \u001b[0mnp\u001b[0m\u001b[0;34m.\u001b[0m\u001b[0marange\u001b[0m\u001b[0;34m(\u001b[0m\u001b[0m_num_samples\u001b[0m\u001b[0;34m(\u001b[0m\u001b[0mX\u001b[0m\u001b[0;34m)\u001b[0m\u001b[0;34m)\u001b[0m\u001b[0;34m\u001b[0m\u001b[0m\n\u001b[0;32m---> 91\u001b[0;31m         \u001b[0;32mfor\u001b[0m \u001b[0mtest_index\u001b[0m \u001b[0;32min\u001b[0m \u001b[0mself\u001b[0m\u001b[0;34m.\u001b[0m\u001b[0m_iter_test_masks\u001b[0m\u001b[0;34m(\u001b[0m\u001b[0mX\u001b[0m\u001b[0;34m,\u001b[0m \u001b[0my\u001b[0m\u001b[0;34m,\u001b[0m \u001b[0mgroups\u001b[0m\u001b[0;34m)\u001b[0m\u001b[0;34m:\u001b[0m\u001b[0;34m\u001b[0m\u001b[0m\n\u001b[0m\u001b[1;32m     92\u001b[0m             \u001b[0mtrain_index\u001b[0m \u001b[0;34m=\u001b[0m \u001b[0mindices\u001b[0m\u001b[0;34m[\u001b[0m\u001b[0mnp\u001b[0m\u001b[0;34m.\u001b[0m\u001b[0mlogical_not\u001b[0m\u001b[0;34m(\u001b[0m\u001b[0mtest_index\u001b[0m\u001b[0;34m)\u001b[0m\u001b[0;34m]\u001b[0m\u001b[0;34m\u001b[0m\u001b[0m\n\u001b[1;32m     93\u001b[0m             \u001b[0mtest_index\u001b[0m \u001b[0;34m=\u001b[0m \u001b[0mindices\u001b[0m\u001b[0;34m[\u001b[0m\u001b[0mtest_index\u001b[0m\u001b[0;34m]\u001b[0m\u001b[0;34m\u001b[0m\u001b[0m\n",
      "\u001b[0;32m/anaconda/lib/python3.6/site-packages/sklearn/model_selection/_split.py\u001b[0m in \u001b[0;36m_iter_test_masks\u001b[0;34m(self, X, y, groups)\u001b[0m\n\u001b[1;32m    608\u001b[0m \u001b[0;34m\u001b[0m\u001b[0m\n\u001b[1;32m    609\u001b[0m     \u001b[0;32mdef\u001b[0m \u001b[0m_iter_test_masks\u001b[0m\u001b[0;34m(\u001b[0m\u001b[0mself\u001b[0m\u001b[0;34m,\u001b[0m \u001b[0mX\u001b[0m\u001b[0;34m,\u001b[0m \u001b[0my\u001b[0m\u001b[0;34m=\u001b[0m\u001b[0;32mNone\u001b[0m\u001b[0;34m,\u001b[0m \u001b[0mgroups\u001b[0m\u001b[0;34m=\u001b[0m\u001b[0;32mNone\u001b[0m\u001b[0;34m)\u001b[0m\u001b[0;34m:\u001b[0m\u001b[0;34m\u001b[0m\u001b[0m\n\u001b[0;32m--> 610\u001b[0;31m         \u001b[0mtest_folds\u001b[0m \u001b[0;34m=\u001b[0m \u001b[0mself\u001b[0m\u001b[0;34m.\u001b[0m\u001b[0m_make_test_folds\u001b[0m\u001b[0;34m(\u001b[0m\u001b[0mX\u001b[0m\u001b[0;34m,\u001b[0m \u001b[0my\u001b[0m\u001b[0;34m)\u001b[0m\u001b[0;34m\u001b[0m\u001b[0m\n\u001b[0m\u001b[1;32m    611\u001b[0m         \u001b[0;32mfor\u001b[0m \u001b[0mi\u001b[0m \u001b[0;32min\u001b[0m \u001b[0mrange\u001b[0m\u001b[0;34m(\u001b[0m\u001b[0mself\u001b[0m\u001b[0;34m.\u001b[0m\u001b[0mn_splits\u001b[0m\u001b[0;34m)\u001b[0m\u001b[0;34m:\u001b[0m\u001b[0;34m\u001b[0m\u001b[0m\n\u001b[1;32m    612\u001b[0m             \u001b[0;32myield\u001b[0m \u001b[0mtest_folds\u001b[0m \u001b[0;34m==\u001b[0m \u001b[0mi\u001b[0m\u001b[0;34m\u001b[0m\u001b[0m\n",
      "\u001b[0;32m/anaconda/lib/python3.6/site-packages/sklearn/model_selection/_split.py\u001b[0m in \u001b[0;36m_make_test_folds\u001b[0;34m(self, X, y, groups)\u001b[0m\n\u001b[1;32m    595\u001b[0m         \u001b[0;32mfor\u001b[0m \u001b[0mtest_fold_indices\u001b[0m\u001b[0;34m,\u001b[0m \u001b[0mper_cls_splits\u001b[0m \u001b[0;32min\u001b[0m \u001b[0menumerate\u001b[0m\u001b[0;34m(\u001b[0m\u001b[0mzip\u001b[0m\u001b[0;34m(\u001b[0m\u001b[0;34m*\u001b[0m\u001b[0mper_cls_cvs\u001b[0m\u001b[0;34m)\u001b[0m\u001b[0;34m)\u001b[0m\u001b[0;34m:\u001b[0m\u001b[0;34m\u001b[0m\u001b[0m\n\u001b[1;32m    596\u001b[0m             \u001b[0;32mfor\u001b[0m \u001b[0mcls\u001b[0m\u001b[0;34m,\u001b[0m \u001b[0;34m(\u001b[0m\u001b[0m_\u001b[0m\u001b[0;34m,\u001b[0m \u001b[0mtest_split\u001b[0m\u001b[0;34m)\u001b[0m \u001b[0;32min\u001b[0m \u001b[0mzip\u001b[0m\u001b[0;34m(\u001b[0m\u001b[0munique_y\u001b[0m\u001b[0;34m,\u001b[0m \u001b[0mper_cls_splits\u001b[0m\u001b[0;34m)\u001b[0m\u001b[0;34m:\u001b[0m\u001b[0;34m\u001b[0m\u001b[0m\n\u001b[0;32m--> 597\u001b[0;31m                 \u001b[0mcls_test_folds\u001b[0m \u001b[0;34m=\u001b[0m \u001b[0mtest_folds\u001b[0m\u001b[0;34m[\u001b[0m\u001b[0my\u001b[0m \u001b[0;34m==\u001b[0m \u001b[0mcls\u001b[0m\u001b[0;34m]\u001b[0m\u001b[0;34m\u001b[0m\u001b[0m\n\u001b[0m\u001b[1;32m    598\u001b[0m                 \u001b[0;31m# the test split can be too big because we used\u001b[0m\u001b[0;34m\u001b[0m\u001b[0;34m\u001b[0m\u001b[0m\n\u001b[1;32m    599\u001b[0m                 \u001b[0;31m# KFold(...).split(X[:max(c, n_splits)]) when data is not 100%\u001b[0m\u001b[0;34m\u001b[0m\u001b[0;34m\u001b[0m\u001b[0m\n",
      "\u001b[0;31mIndexError\u001b[0m: too many indices for array"
     ]
    }
   ],
   "source": [
    "# 3) Consider linear kernel. Perform grid search for best C \n",
    "#    with 3-fold cross-validation. You can use svm.SVC() for SVM\n",
    "#    classifier and use GridSearchCV() to perform such grid search.\n",
    "#    For more details, please refer to the sklearn documents:\n",
    "#         http://scikit-learn.org/stable/modules/svm.html\n",
    "#         http://scikit-learn.org/stable/modules/generated/sklearn.model_selection.GridSearchCV.html#sklearn.model_selection.GridSearchCV\n",
    "\n",
    "classifier = svm.SVC(gamma=\"scale\",kernel='linear')\n",
    "C_list     = [10**-5,10**-4,10**-3, 10**-2, 10** -1] # Different C to try. from hint 2\n",
    "parameters = {'kernel':('linear', 'rbf'), 'C':C_list}\n",
    "clf = GridSearchCV(classifier, parameters, cv=3)\n",
    "clf.fit(X_train, y_train)\n",
    "#__________________\n",
    "#__________________"
   ]
  },
  {
   "cell_type": "code",
   "execution_count": 30,
   "metadata": {},
   "outputs": [
    {
     "name": "stdout",
     "output_type": "stream",
     "text": [
      "(361, 279) (91, 279) (361, 1) (91, 1)\n"
     ]
    }
   ],
   "source": [
    "from sklearn.model_selection import train_test_split\n",
    "X_train, X_test, y_train, y_test = train_test_split(\n",
    "    X, Y, test_size=0.20, random_state=42)\n",
    "print(X_train.shape, X_test.shape, y_train.shape, y_test.shape)"
   ]
  },
  {
   "cell_type": "code",
   "execution_count": null,
   "metadata": {
    "ExecuteTime": {
     "end_time": "2018-02-15T22:10:19.314796Z",
     "start_time": "2018-02-15T22:10:17.833308Z"
    }
   },
   "outputs": [],
   "source": [
    "# 4) Draw heatmaps for result of grid search and find \n",
    "#    best C for validation set.\n",
    "\n",
    "def draw_heatmap_linear(acc, acc_desc, C_list):\n",
    "    plt.figure(figsize = (2,4))\n",
    "    ax = sns.heatmap(acc, annot=True, fmt='.3f', yticklabels=C_list, xticklabels=[])\n",
    "    ax.collections[0].colorbar.set_label(\"accuracy\")\n",
    "    ax.set(ylabel='$C$')\n",
    "    plt.title(acc_desc + ' w.r.t $C$')\n",
    "    sns.set_style(\"whitegrid\", {'axes.grid' : False})\n",
    "    plt.show()\n",
    "    \n",
    "#\n",
    "# You can use the draw_heatmap_linear() to draw a heatmap to visualize \n",
    "# the accuracy w.r.t. C and gamma. Some demo code is given below as hint:\n",
    "#\n",
    "# demo_acc        = np.array([[0.8],\n",
    "#                             [0.7]])\n",
    "# demo_C_list     = [0.1, 1]\n",
    "# draw_heatmap_linear(demo_acc, 'demo accuracy', demo_C_list)\n",
    "#\n",
    "\n",
    "train_acc = \n",
    "draw_heatmap_linear(train_acc, 'train accuracy', C_list)\n",
    "\n",
    "#val_acc = \n",
    "#draw_heatmap_linear(val_acc, 'val accuracy', C_list)"
   ]
  },
  {
   "cell_type": "code",
   "execution_count": 33,
   "metadata": {
    "ExecuteTime": {
     "end_time": "2018-02-15T20:05:52.255828Z",
     "start_time": "2018-02-15T20:05:51.679770Z"
    }
   },
   "outputs": [
    {
     "ename": "NameError",
     "evalue": "name '__________________' is not defined",
     "output_type": "error",
     "traceback": [
      "\u001b[0;31m---------------------------------------------------------------------------\u001b[0m",
      "\u001b[0;31mNameError\u001b[0m                                 Traceback (most recent call last)",
      "\u001b[0;32m<ipython-input-33-5da75aabf047>\u001b[0m in \u001b[0;36m<module>\u001b[0;34m()\u001b[0m\n\u001b[1;32m      1\u001b[0m \u001b[0;31m# 5) Use the best C to calculate the test accuracy.\u001b[0m\u001b[0;34m\u001b[0m\u001b[0;34m\u001b[0m\u001b[0m\n\u001b[1;32m      2\u001b[0m \u001b[0;34m\u001b[0m\u001b[0m\n\u001b[0;32m----> 3\u001b[0;31m \u001b[0mtest_acc\u001b[0m \u001b[0;34m=\u001b[0m \u001b[0m__________________\u001b[0m\u001b[0;34m\u001b[0m\u001b[0m\n\u001b[0m\u001b[1;32m      4\u001b[0m \u001b[0mprint\u001b[0m\u001b[0;34m(\u001b[0m\u001b[0mtest_acc\u001b[0m\u001b[0;34m)\u001b[0m\u001b[0;34m\u001b[0m\u001b[0m\n",
      "\u001b[0;31mNameError\u001b[0m: name '__________________' is not defined"
     ]
    }
   ],
   "source": [
    "# 5) Use the best C to calculate the test accuracy.\n",
    "\n",
    "test_acc = __________________\n",
    "print(test_acc)"
   ]
  },
  {
   "cell_type": "code",
   "execution_count": null,
   "metadata": {
    "collapsed": true
   },
   "outputs": [],
   "source": []
  },
  {
   "cell_type": "code",
   "execution_count": null,
   "metadata": {
    "collapsed": true
   },
   "outputs": [],
   "source": []
  }
 ],
 "metadata": {
  "kernelspec": {
   "display_name": "Python 3",
   "language": "python",
   "name": "python3"
  },
  "language_info": {
   "codemirror_mode": {
    "name": "ipython",
    "version": 3
   },
   "file_extension": ".py",
   "mimetype": "text/x-python",
   "name": "python",
   "nbconvert_exporter": "python",
   "pygments_lexer": "ipython3",
   "version": "3.6.0"
  },
  "toc": {
   "colors": {
    "hover_highlight": "#DAA520",
    "navigate_num": "#000000",
    "navigate_text": "#333333",
    "running_highlight": "#FF0000",
    "selected_highlight": "#FFD700",
    "sidebar_border": "#EEEEEE",
    "wrapper_background": "#FFFFFF"
   },
   "moveMenuLeft": true,
   "nav_menu": {
    "height": "63px",
    "width": "252px"
   },
   "navigate_menu": true,
   "number_sections": true,
   "sideBar": true,
   "threshold": 4,
   "toc_cell": false,
   "toc_section_display": "block",
   "toc_window_display": false,
   "widenNotebook": false
  }
 },
 "nbformat": 4,
 "nbformat_minor": 2
}
