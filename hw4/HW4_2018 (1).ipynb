{
 "cells": [
  {
   "cell_type": "markdown",
   "metadata": {},
   "source": [
    "## Q1 Parabola"
   ]
  },
  {
   "cell_type": "markdown",
   "metadata": {},
   "source": [
    "### Original Data"
   ]
  },
  {
   "cell_type": "code",
   "execution_count": null,
   "metadata": {},
   "outputs": [],
   "source": [
    "X_and_Y = np.load('./hw4-q1-parabola.npy')\n",
    "X = X_and_Y[:, 0]  # Shape: (300,)\n",
    "Y = X_and_Y[:, 1]  # Shape: (300,)"
   ]
  },
  {
   "cell_type": "markdown",
   "metadata": {},
   "source": [
    "### 1.1 Parabola Estimation with L2 Norm "
   ]
  },
  {
   "cell_type": "code",
   "execution_count": null,
   "metadata": {},
   "outputs": [],
   "source": []
  },
  {
   "cell_type": "markdown",
   "metadata": {},
   "source": [
    "### 1.2 Parabola Estimation with L1 Norm (Gradient Descent)"
   ]
  },
  {
   "cell_type": "code",
   "execution_count": null,
   "metadata": {},
   "outputs": [],
   "source": []
  },
  {
   "cell_type": "markdown",
   "metadata": {},
   "source": [
    "### 1.3 Parabola Estimation with L1 and L2 Norm (Gradient Descent)"
   ]
  },
  {
   "cell_type": "code",
   "execution_count": null,
   "metadata": {},
   "outputs": [],
   "source": []
  },
  {
   "cell_type": "markdown",
   "metadata": {},
   "source": [
    "### 1.4 Comparison (Visualization)"
   ]
  },
  {
   "cell_type": "code",
   "execution_count": null,
   "metadata": {},
   "outputs": [],
   "source": []
  },
  {
   "cell_type": "markdown",
   "metadata": {},
   "source": [
    "## Q4 Logistic Regression"
   ]
  },
  {
   "cell_type": "markdown",
   "metadata": {},
   "source": [
    "### Original Data"
   ]
  },
  {
   "cell_type": "code",
   "execution_count": 11,
   "metadata": {},
   "outputs": [
    {
     "name": "stdout",
     "output_type": "stream",
     "text": [
      "number of training data is 70\n",
      "number of testing data is 30\n"
     ]
    }
   ],
   "source": [
    "import numpy as np\n",
    "from tqdm import *\n",
    "import matplotlib.pyplot as plt\n",
    "from sklearn.utils import shuffle\n",
    "from sklearn.preprocessing import LabelEncoder\n",
    "%matplotlib inline\n",
    "\n",
    "# ---- set the figure size\n",
    "plt.rcParams['figure.figsize'] = 8,8\n",
    "\n",
    "# ---- load the data Q3_data.txt\n",
    "file_path = 'Q4_data.txt'\n",
    "\n",
    "data = np.genfromtxt(file_path,dtype=\"f8,f8,f8,f8,S20\",\n",
    "delimiter=',',names=['x1','x2','x3','x4','class'])\n",
    "\n",
    "# ---- split the data points into the training set and test set\n",
    "train_data = np.concatenate((data[15:50],data[65:]))\n",
    "test_data = np.concatenate((data[:15],data[50:65]))\n",
    "X_train = np.vstack([np.array((1,x[0],x[1],x[2],x[3])) for x in train_data])\n",
    "X_test = np.vstack([np.array((1,x[0],x[1],x[2],x[3])) for x in test_data])\n",
    "num_train = len(X_train)\n",
    "num_test = len(X_test)\n",
    "\n",
    "print(\"number of training data is \"+str(num_train))\n",
    "print(\"number of testing data is \"+str(num_test))\n",
    "\n",
    "# ---- convert the class names into categorical labels.\n",
    "le = LabelEncoder()\n",
    "le.fit(data['class'])\n",
    "y_train = le.transform(train_data['class']).reshape(num_train,1)\n",
    "y_test = le.transform(test_data['class']).reshape(num_test,1)\n",
    "\n",
    "# ---- initialize the weights and bias to 0\n",
    "# ---- we absorb the bias into the weights\n",
    "w = np.zeros((5,1))\n",
    "n_iter = 1000\n",
    "alpha = 0.01\n",
    "train_err = []"
   ]
  },
  {
   "cell_type": "markdown",
   "metadata": {},
   "source": [
    "### 4.2 Training with Training curve."
   ]
  },
  {
   "cell_type": "code",
   "execution_count": null,
   "metadata": {},
   "outputs": [],
   "source": []
  },
  {
   "cell_type": "markdown",
   "metadata": {},
   "source": [
    "### 4.3 Decision Boundary (Equation & Plot)"
   ]
  },
  {
   "cell_type": "code",
   "execution_count": null,
   "metadata": {},
   "outputs": [],
   "source": []
  },
  {
   "cell_type": "markdown",
   "metadata": {},
   "source": [
    "### 4.4 Test (Report Accuracy)"
   ]
  },
  {
   "cell_type": "code",
   "execution_count": null,
   "metadata": {},
   "outputs": [],
   "source": []
  },
  {
   "cell_type": "markdown",
   "metadata": {},
   "source": []
  },
  {
   "cell_type": "code",
   "execution_count": null,
   "metadata": {},
   "outputs": [],
   "source": []
  },
  {
   "cell_type": "code",
   "execution_count": null,
   "metadata": {},
   "outputs": [],
   "source": []
  }
 ],
 "metadata": {
  "kernelspec": {
   "display_name": "Python 3",
   "language": "python",
   "name": "python3"
  },
  "language_info": {
   "codemirror_mode": {
    "name": "ipython",
    "version": 3
   },
   "file_extension": ".py",
   "mimetype": "text/x-python",
   "name": "python",
   "nbconvert_exporter": "python",
   "pygments_lexer": "ipython3",
   "version": "3.5.2"
  }
 },
 "nbformat": 4,
 "nbformat_minor": 2
}
