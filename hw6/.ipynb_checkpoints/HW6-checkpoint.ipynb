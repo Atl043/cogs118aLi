{
 "cells": [
  {
   "cell_type": "markdown",
   "metadata": {},
   "source": [
    "## 5 Decision Tree"
   ]
  },
  {
   "cell_type": "code",
   "execution_count": 3,
   "metadata": {
    "collapsed": true
   },
   "outputs": [],
   "source": [
    "import scipy.io as sio\n",
    "import matplotlib.pyplot as plt\n",
    "import numpy as np\n",
    "import seaborn as sns\n",
    "from sklearn import tree\n",
    "from sklearn.model_selection import GridSearchCV\n",
    "%config InlineBackend.figure_format = 'retina'"
   ]
  },
  {
   "cell_type": "code",
   "execution_count": 4,
   "metadata": {},
   "outputs": [
    {
     "name": "stdout",
     "output_type": "stream",
     "text": [
      "(351, 34) (351,)\n"
     ]
    }
   ],
   "source": [
    "# 1) Load data.\n",
    "\n",
    "X_and_Y = np.load('ionosphere.npy').astype(np.float32) # Load data from file.\n",
    "np.random.shuffle(X_and_Y)   # Shuffle the data.\n",
    "X = X_and_Y[:, 0:-1]         # First column to second last column: Features (numerical values) \n",
    "Y = X_and_Y[:, -1]           # Last column: Labels (0 or 1)\n",
    "print(X.shape, Y.shape)      # Check the shapes."
   ]
  },
  {
   "cell_type": "code",
   "execution_count": 5,
   "metadata": {},
   "outputs": [
    {
     "name": "stdout",
     "output_type": "stream",
     "text": [
      "(280, 34) (71, 34) (280,) (71,)\n"
     ]
    }
   ],
   "source": [
    "# 2) Split the dataset into 2 parts: \n",
    "#    (a) Training set + Validation set  (80% of all data points)\n",
    "#    (b) Test set                       (20% of all data points)\n",
    "\n",
    "X_train_val = X[:int(0.8*len(X))] # Get features from train + val set.\n",
    "X_test      = X[int(0.8*len(X)):] # Get features from test set.     \n",
    "Y_train_val = Y[:int(0.8*len(Y))] # Get labels from train + val set.\n",
    "Y_test      = Y[int(0.8*len(Y)):] # Get labels from test set.\n",
    "print(X_train_val.shape, X_test.shape, Y_train_val.shape, Y_test.shape)"
   ]
  },
  {
   "cell_type": "code",
   "execution_count": 7,
   "metadata": {},
   "outputs": [
    {
     "name": "stdout",
     "output_type": "stream",
     "text": [
      "SVC(C=0.1, cache_size=200, class_weight=None, coef0=0.0,\n",
      "  decision_function_shape=None, degree=3, gamma='auto', kernel='linear',\n",
      "  max_iter=-1, probability=False, random_state=None, shrinking=True,\n",
      "  tol=0.001, verbose=False)\n"
     ]
    }
   ],
   "source": [
    "# 3) Consider linear kernel. Perform grid search for best C \n",
    "#    with 3-fold cross-validation. You can use svm.SVC() for SVM\n",
    "#    classifier and use GridSearchCV() to perform such grid search.\n",
    "#    For more details, please refer to the sklearn documents:\n",
    "#         http://scikit-learn.org/stable/modules/svm.html\n",
    "#         http://scikit-learn.org/stable/modules/generated/sklearn.model_selection.GridSearchCV.html#sklearn.model_selection.GridSearchCV\n",
    "from sklearn import svm\n",
    "classifier = svm.SVC(kernel = 'linear')\n",
    "C_list     = [10**-5, 10**-4, 10**-3, 10**-2, 10**-1] # Different C to try.\n",
    "parameters = {'C': C_list}\n",
    "clf = GridSearchCV(classifier, parameters, return_train_score = 'true' )\n",
    "clf.fit(X_train_val, Y_train_val)\n",
    "print(clf.best_estimator_)"
   ]
  },
  {
   "cell_type": "code",
   "execution_count": 57,
   "metadata": {},
   "outputs": [
    {
     "data": {
      "text/plain": [
       "GridSearchCV(cv=5, error_score='raise',\n",
       "       estimator=DecisionTreeClassifier(class_weight=None, criterion='gini', max_depth=None,\n",
       "            max_features=None, max_leaf_nodes=None,\n",
       "            min_impurity_split=1e-07, min_samples_leaf=1,\n",
       "            min_samples_split=2, min_weight_fraction_leaf=0.0,\n",
       "            presort=False, random_state=None, splitter='best'),\n",
       "       fit_params={}, iid=True, n_jobs=1,\n",
       "       param_grid={'max_depth': [1, 2, 3, 4, 5], 'criterion': ['entropy']},\n",
       "       pre_dispatch='2*n_jobs', refit=True, return_train_score='true',\n",
       "       scoring=None, verbose=0)"
      ]
     },
     "execution_count": 57,
     "metadata": {},
     "output_type": "execute_result"
    }
   ],
   "source": [
    "# 3) Perform grid search for best D using sklearn\n",
    "classifiers = tree.DecisionTreeClassifier()\n",
    "D_list = [1,2,3,4,5]\n",
    "param_dist = {\n",
    "              \"max_depth\": D_list,\n",
    "              \"criterion\": [\"entropy\"]\n",
    "             }\n",
    "clf = GridSearchCV(classifiers, param_dist, return_train_score = 'true',cv =5)\n",
    "clf.fit(X_train_val, Y_train_val)"
   ]
  },
  {
   "cell_type": "code",
   "execution_count": 58,
   "metadata": {},
   "outputs": [
    {
     "data": {
      "text/plain": [
       "2"
      ]
     },
     "execution_count": 58,
     "metadata": {},
     "output_type": "execute_result"
    }
   ],
   "source": [
    "C = clf.best_params_['max_depth']\n",
    "C"
   ]
  },
  {
   "cell_type": "code",
   "execution_count": 47,
   "metadata": {},
   "outputs": [
    {
     "data": {
      "image/png": "[encoded data removed]",
      "text/plain": [
       "<matplotlib.figure.Figure at 0x11e959ef0>"
      ]
     },
     "metadata": {
      "image/png": {
       "height": 248,
       "width": 196
      }
     },
     "output_type": "display_data"
    },
    {
     "data": {
      "image/png": "[encoded data removed]",
      "text/plain": [
       "<matplotlib.figure.Figure at 0x11f073e10>"
      ]
     },
     "metadata": {
      "image/png": {
       "height": 246,
       "width": 191
      }
     },
     "output_type": "display_data"
    }
   ],
   "source": [
    "# 4) Draw heatmaps for result of grid search and find \n",
    "#    optimal D for validation set.\n",
    "def draw_heatmap_linear(acc, acc_desc, depth_list):\n",
    "    plt.figure(figsize = (2,4))\n",
    "    ax = sns.heatmap(acc, annot=True, fmt='.3f', yticklabels=depth_list, xticklabels=[])\n",
    "    ax.collections[0].colorbar.set_label(\"accuracy\")\n",
    "    ax.set(ylabel='depth')\n",
    "    plt.title(acc_desc + ' w.r.t depth')\n",
    "    sns.set_style(\"whitegrid\", {'axes.grid' : False})\n",
    "    plt.show()\n",
    "    \n",
    "    \n",
    "#######FILL IN HERE #########   \n",
    "train_acc = clf.cv_results_['mean_train_score']\n",
    "draw_heatmap_linear(train_acc.reshape(-1,1), 'train accuracy', D_list)\n",
    "\n",
    "val_acc = clf.cv_results_['mean_test_score']\n",
    "draw_heatmap_linear(val_acc.reshape(-1,1), 'val accuracy', D_list)\n",
    "# optimal is 1"
   ]
  },
  {
   "cell_type": "code",
   "execution_count": 60,
   "metadata": {},
   "outputs": [
    {
     "name": "stdout",
     "output_type": "stream",
     "text": [
      "0.915492957746\n"
     ]
    }
   ],
   "source": [
    "# 5) Use the optimal D to calculate the test accuracy.\n",
    "# best depth is 1 so close to 90% like in hint\n",
    "classifiers = tree.DecisionTreeClassifier()\n",
    "param_dist = {\n",
    "              \"max_depth\": [clf.best_params_['max_depth']],\n",
    "              \"criterion\": [\"entropy\"]\n",
    "             }\n",
    "testclf = GridSearchCV(classifiers, param_dist, return_train_score = 'true',cv =5)\n",
    "testclf.fit(X_train_val, Y_train_val)\n",
    "test_acc = clf.score(X_test, Y_test)\n",
    "print(test_acc)"
   ]
  },
  {
   "cell_type": "markdown",
   "metadata": {},
   "source": [
    "## 6 K-Nearest Neighbors"
   ]
  },
  {
   "cell_type": "code",
   "execution_count": 42,
   "metadata": {},
   "outputs": [
    {
     "name": "stdout",
     "output_type": "stream",
     "text": [
      "(351, 34) (351,)\n"
     ]
    }
   ],
   "source": [
    "# 1) Load data.\n",
    "\n",
    "X_and_Y = np.load('ionosphere.npy').astype(np.float32) # Load data from file.\n",
    "np.random.seed(0)\n",
    "np.random.shuffle(X_and_Y)   # Shuffle the data.\n",
    "X = X_and_Y[:, 0:-1]         # First column to second last column: Features (numerical values) \n",
    "Y = X_and_Y[:, -1]           # Last column: Labels (0 or 1)\n",
    "print(X.shape, Y.shape)      # Check the shapes."
   ]
  },
  {
   "cell_type": "code",
   "execution_count": 43,
   "metadata": {},
   "outputs": [
    {
     "name": "stdout",
     "output_type": "stream",
     "text": [
      "(280, 34) (71, 34) (280,) (71,)\n"
     ]
    }
   ],
   "source": [
    "# 2) Split the dataset into 2 parts: \n",
    "#    (a) Training set + Validation set  (80% of all data points)\n",
    "#    (b) Test set                       (20% of all data points)\n",
    "\n",
    "X_train_val = X[:int(0.8*len(X))] # Get features from train + val set.\n",
    "X_test      = X[int(0.8*len(X)):] # Get features from test set.     \n",
    "Y_train_val = Y[:int(0.8*len(Y))] # Get labels from train + val set.\n",
    "Y_test      = Y[int(0.8*len(Y)):] # Get labels from test set.  \n",
    "print(X_train_val.shape, X_test.shape, Y_train_val.shape, Y_test.shape)"
   ]
  },
  {
   "cell_type": "code",
   "execution_count": 127,
   "metadata": {
    "collapsed": true
   },
   "outputs": [],
   "source": [
    "# 3) Implement the k-NN.\n",
    "from collections import defaultdict\n",
    "class simple_KNeighborsClassifier(object):\n",
    "    def __init__(self, k):\n",
    "        \"\"\"\n",
    "        k-NN initialization.\n",
    "            k: Number of nearest neighbors.\n",
    "        \"\"\"\n",
    "        self.k = k\n",
    "        \n",
    "    def fit(self, X_train, Y_train):\n",
    "        \"\"\"\n",
    "        k-NN fitting function.\n",
    "            X_train: Feature vectors in training set.\n",
    "            Y_train: Labels in training set.\n",
    "        \"\"\"\n",
    "        self.X_train = X_train\n",
    "        self.Y_train = Y_train\n",
    "        return self\n",
    "    \n",
    "    def _predict_one(self, test):\n",
    "        distances = sorted((self._distance(x, test), y) for x, y in zip(self.X_train, self.Y_train))\n",
    "        neighbors = distances[:self.k]\n",
    "        weights = self._compute_weights(neighbors)\n",
    "        return weights\n",
    "    def _compute_weights(self, distances):\n",
    "        return [(1, y) for d, y in distances]\n",
    "    \n",
    "    def _distance(self, data1, data2): # euclidean\n",
    "        return np.sqrt(sum((data1 - data2)**2))\n",
    "\n",
    "    def predict(self, X_pred):\n",
    "        \"\"\"\n",
    "        k-NN prediction function.\n",
    "            X_pred: Feature vectors in training set.\n",
    "        Return the predicted labels for X_pred. Shape: (len(X_pred), )\n",
    "        \"\"\"\n",
    "        \n",
    "        Y_pred = []\n",
    "        \n",
    "        #######FILL IN HERE #########\n",
    "        for i in X_pred:\n",
    "            Y_pred.append(self._predict_one(i))\n",
    "        return np.array(Y_pred)\n",
    "        #return [self._predict_one(i) for i in X_pred]"
   ]
  },
  {
   "cell_type": "code",
   "execution_count": 128,
   "metadata": {},
   "outputs": [],
   "source": [
    "# 4) Implement the cross-validation.\n",
    "def simple_cross_validation(X_train_val, Y_train_val, k, fold):\n",
    "    \"\"\"\n",
    "    A simple cross-validation function for k-NN.\n",
    "    \n",
    "    X_train_val: Features for train and val set. \n",
    "                 Shape: (num of data points, num of features)\n",
    "    Y_train_val: Labels for train and val set.\n",
    "                 Shape: (num of data points,)\n",
    "    k:           Parameter k for k-NN.\n",
    "    fold:        The number of folds to do the cross-validation.\n",
    "    \n",
    "    Return the average accuracy on validation set.\n",
    "    \"\"\"\n",
    "    val_acc_list = []\n",
    "    train_acc_list = []\n",
    "    number = len(Y_train_val)\n",
    "    for i in range(fold):\n",
    "        X_test = X_train_val[i*number:(i+1)*number,:]\n",
    "        Y_test = Y_train_val[i*number:(i+1)*number]\n",
    "        X_train = np.delete(X_train_val, slice(i*number,(i+1)*number),axis = 0)\n",
    "        Y_train = np.delete(Y_train_val, slice(i*number,(i+1)*number),axis = 0)\n",
    "        newSVM = simple_KNeighborsClassifier(k)\n",
    "        newSVM.fit(X_train,Y_train)\n",
    "        train_acc = newSVM.predict(X_train)\n",
    "        val_acc = newSVM.predict(X_test)\n",
    "        #__________________\n",
    "        val_acc_list.append(val_acc)\n",
    "        train_acc_list.append(train_acc)\n",
    "        print(val_acc_list)\n",
    "        sumVal = sum(val_acc_list)\n",
    "        lenVal = int(len(val_acc_list))\n",
    "        sumtra = sum(train_acc_list)\n",
    "        lentra = int(len(train_acc_list))\n",
    "    return sumVal / lenVal, \\\n",
    "           sumtra / lentra"
   ]
  },
  {
   "cell_type": "code",
   "execution_count": 129,
   "metadata": {
    "collapsed": true
   },
   "outputs": [],
   "source": [
    "# 5) Implement the grid search function.\n",
    "\n",
    "def simple_GridSearchCV_fit(X_train_val, Y_train_val, k_list, fold):\n",
    "    \"\"\"\n",
    "    A simple grid search function for k with cross-validation in k-NN.\n",
    "    \n",
    "    X_train_val: Features for train and val set. \n",
    "                 Shape: (num of data points, num of features)\n",
    "    Y_train_val: Labels for train and val set.\n",
    "                 Shape: (num of data points,)\n",
    "    k_list:      The list of k values to try.\n",
    "    fold:        The number of folds to do the cross-validation.\n",
    "    \n",
    "    Return the val and train accuracy matrix of cross-validation. \n",
    "    All combinations of k are included in the array. \n",
    "    Shape: (len(k_list), )\n",
    "    \"\"\"\n",
    "    val_acc_array = np.zeros(len(k_list))\n",
    "    train_acc_array = np.zeros(len(k_list))\n",
    "    for i in range(len(k_list)):\n",
    "        val_acc_array[i], train_acc_array[i] = simple_cross_validation(\n",
    "            X_train_val, Y_train_val, k_list[i], fold)\n",
    "    return val_acc_array, train_acc_array"
   ]
  },
  {
   "cell_type": "code",
   "execution_count": 130,
   "metadata": {},
   "outputs": [
    {
     "name": "stdout",
     "output_type": "stream",
     "text": [
      "[array([], shape=(280, 0), dtype=float64)]\n",
      "[array([], shape=(280, 0), dtype=float64), array([], dtype=float64)]\n"
     ]
    },
    {
     "ename": "ValueError",
     "evalue": "operands could not be broadcast together with shapes (0,) (280,1,2) ",
     "output_type": "error",
     "traceback": [
      "\u001b[0;31m---------------------------------------------------------------------------\u001b[0m",
      "\u001b[0;31mValueError\u001b[0m                                Traceback (most recent call last)",
      "\u001b[0;32m<ipython-input-130-188edd87fc67>\u001b[0m in \u001b[0;36m<module>\u001b[0;34m()\u001b[0m\n\u001b[1;32m      2\u001b[0m \u001b[0;34m\u001b[0m\u001b[0m\n\u001b[1;32m      3\u001b[0m \u001b[0mk_list\u001b[0m \u001b[0;34m=\u001b[0m \u001b[0;34m[\u001b[0m\u001b[0;36m1\u001b[0m\u001b[0;34m,\u001b[0m\u001b[0;36m2\u001b[0m\u001b[0;34m,\u001b[0m\u001b[0;36m3\u001b[0m\u001b[0;34m,\u001b[0m\u001b[0;36m4\u001b[0m\u001b[0;34m,\u001b[0m\u001b[0;36m5\u001b[0m\u001b[0;34m,\u001b[0m\u001b[0;36m6\u001b[0m\u001b[0;34m]\u001b[0m\u001b[0;34m\u001b[0m\u001b[0m\n\u001b[0;32m----> 4\u001b[0;31m \u001b[0mval_acc_array\u001b[0m\u001b[0;34m,\u001b[0m \u001b[0mtrain_acc_array\u001b[0m \u001b[0;34m=\u001b[0m \u001b[0msimple_GridSearchCV_fit\u001b[0m\u001b[0;34m(\u001b[0m\u001b[0mX_train_val\u001b[0m\u001b[0;34m,\u001b[0m \u001b[0mY_train_val\u001b[0m\u001b[0;34m,\u001b[0m \u001b[0mk_list\u001b[0m\u001b[0;34m,\u001b[0m \u001b[0;36m3\u001b[0m\u001b[0;34m)\u001b[0m\u001b[0;34m\u001b[0m\u001b[0m\n\u001b[0m",
      "\u001b[0;32m<ipython-input-129-ee21ae2d248c>\u001b[0m in \u001b[0;36msimple_GridSearchCV_fit\u001b[0;34m(X_train_val, Y_train_val, k_list, fold)\u001b[0m\n\u001b[1;32m     20\u001b[0m     \u001b[0;32mfor\u001b[0m \u001b[0mi\u001b[0m \u001b[0;32min\u001b[0m \u001b[0mrange\u001b[0m\u001b[0;34m(\u001b[0m\u001b[0mlen\u001b[0m\u001b[0;34m(\u001b[0m\u001b[0mk_list\u001b[0m\u001b[0;34m)\u001b[0m\u001b[0;34m)\u001b[0m\u001b[0;34m:\u001b[0m\u001b[0;34m\u001b[0m\u001b[0m\n\u001b[1;32m     21\u001b[0m         val_acc_array[i], train_acc_array[i] = simple_cross_validation(\n\u001b[0;32m---> 22\u001b[0;31m             X_train_val, Y_train_val, k_list[i], fold)\n\u001b[0m\u001b[1;32m     23\u001b[0m     \u001b[0;32mreturn\u001b[0m \u001b[0mval_acc_array\u001b[0m\u001b[0;34m,\u001b[0m \u001b[0mtrain_acc_array\u001b[0m\u001b[0;34m\u001b[0m\u001b[0m\n",
      "\u001b[0;32m<ipython-input-128-3f4b6f0862a4>\u001b[0m in \u001b[0;36msimple_cross_validation\u001b[0;34m(X_train_val, Y_train_val, k, fold)\u001b[0m\n\u001b[1;32m     31\u001b[0m         \u001b[0msumVal\u001b[0m \u001b[0;34m=\u001b[0m \u001b[0msum\u001b[0m\u001b[0;34m(\u001b[0m\u001b[0mval_acc_list\u001b[0m\u001b[0;34m)\u001b[0m\u001b[0;34m\u001b[0m\u001b[0m\n\u001b[1;32m     32\u001b[0m         \u001b[0mlenVal\u001b[0m \u001b[0;34m=\u001b[0m \u001b[0mint\u001b[0m\u001b[0;34m(\u001b[0m\u001b[0mlen\u001b[0m\u001b[0;34m(\u001b[0m\u001b[0mval_acc_list\u001b[0m\u001b[0;34m)\u001b[0m\u001b[0;34m)\u001b[0m\u001b[0;34m\u001b[0m\u001b[0m\n\u001b[0;32m---> 33\u001b[0;31m         \u001b[0msumtra\u001b[0m \u001b[0;34m=\u001b[0m \u001b[0msum\u001b[0m\u001b[0;34m(\u001b[0m\u001b[0mtrain_acc_list\u001b[0m\u001b[0;34m)\u001b[0m\u001b[0;34m\u001b[0m\u001b[0m\n\u001b[0m\u001b[1;32m     34\u001b[0m         \u001b[0mlentra\u001b[0m \u001b[0;34m=\u001b[0m \u001b[0mint\u001b[0m\u001b[0;34m(\u001b[0m\u001b[0mlen\u001b[0m\u001b[0;34m(\u001b[0m\u001b[0mtrain_acc_list\u001b[0m\u001b[0;34m)\u001b[0m\u001b[0;34m)\u001b[0m\u001b[0;34m\u001b[0m\u001b[0m\n\u001b[1;32m     35\u001b[0m     \u001b[0;32mreturn\u001b[0m \u001b[0msumVal\u001b[0m \u001b[0;34m/\u001b[0m \u001b[0mlenVal\u001b[0m\u001b[0;34m,\u001b[0m            \u001b[0msumtra\u001b[0m \u001b[0;34m/\u001b[0m \u001b[0mlentra\u001b[0m\u001b[0;34m\u001b[0m\u001b[0m\n",
      "\u001b[0;31mValueError\u001b[0m: operands could not be broadcast together with shapes (0,) (280,1,2) "
     ]
    }
   ],
   "source": [
    "# 6) Perform grid search.\n",
    "\n",
    "k_list = [1,2,3,4,5,6]\n",
    "val_acc_array, train_acc_array = simple_GridSearchCV_fit(X_train_val, Y_train_val, k_list, 3)"
   ]
  },
  {
   "cell_type": "code",
   "execution_count": null,
   "metadata": {
    "collapsed": true
   },
   "outputs": [],
   "source": [
    "# 7) Draw heatmaps for result of grid search and find \n",
    "#    best k on validation set.\n",
    "\n",
    "def draw_heatmap_knn(acc, acc_desc, k_list):\n",
    "    plt.figure(figsize = (2,4))\n",
    "    ax = sns.heatmap(acc, annot=True, fmt='.3f', yticklabels=k_list, xticklabels=[])\n",
    "    ax.collections[0].colorbar.set_label(\"accuracy\")\n",
    "    ax.set(ylabel='$k$')\n",
    "    plt.title(acc_desc + ' w.r.t $k$')\n",
    "    sns.set_style(\"whitegrid\", {'axes.grid' : False})\n",
    "    plt.show()\n",
    "\n",
    "#######FILL IN HERE #########\n",
    "\n",
    "# Hint:\n",
    "# You can use the draw_heatmap_knn() to draw a heatmap to visualize \n",
    "# the accuracy w.r.t. k. Some demo code is given below as hint:\n",
    "#\n",
    "# demo_acc        = np.array([[0.8],[0.7]])\n",
    "# demo_k_list     = [1, 2]\n",
    "# draw_heatmap_linear(demo_acc, 'demo accuracy', demo_k_list)\n",
    "#\n"
   ]
  },
  {
   "cell_type": "code",
   "execution_count": null,
   "metadata": {
    "collapsed": true
   },
   "outputs": [],
   "source": [
    "# 8) Use the best k to calculate the test accuracy.\n",
    "\n",
    "#######FILL IN HERE #########\n",
    "\n",
    "classifiers = simple_KNeighborsClassifier()\n",
    "clf = simple_cross_validation(X_train_val, Y_train_val, k_list, 3)\n",
    "testclf = simple_cross_validation(X_train_val, Y_train_val, clf.best_params_['k'], 3)\n",
    "testclf.fit(X_train_val, Y_train_val)\n",
    "test_acc = clf.score(X_test, Y_test)\n",
    "print(test_acc)"
   ]
  },
  {
   "cell_type": "markdown",
   "metadata": {},
   "source": [
    "## 7 (Bonus) SVM"
   ]
  },
  {
   "cell_type": "code",
   "execution_count": null,
   "metadata": {
    "collapsed": true
   },
   "outputs": [],
   "source": []
  }
 ],
 "metadata": {
  "kernelspec": {
   "display_name": "Python 3",
   "language": "python",
   "name": "python3"
  },
  "language_info": {
   "codemirror_mode": {
    "name": "ipython",
    "version": 3
   },
   "file_extension": ".py",
   "mimetype": "text/x-python",
   "name": "python",
   "nbconvert_exporter": "python",
   "pygments_lexer": "ipython3",
   "version": "3.6.0"
  }
 },
 "nbformat": 4,
 "nbformat_minor": 2
}
